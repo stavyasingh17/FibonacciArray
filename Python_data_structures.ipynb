{
  "nbformat": 4,
  "nbformat_minor": 0,
  "metadata": {
    "colab": {
      "provenance": [],
      "authorship_tag": "ABX9TyNxGXjQAgtI2r65t3qKlgxl",
      "include_colab_link": true
    },
    "kernelspec": {
      "name": "python3",
      "display_name": "Python 3"
    },
    "language_info": {
      "name": "python"
    }
  },
  "cells": [
    {
      "cell_type": "markdown",
      "metadata": {
        "id": "view-in-github",
        "colab_type": "text"
      },
      "source": [
        "<a href=\"https://colab.research.google.com/github/stavyasingh17/FibonacciArray/blob/master/Python_data_structures.ipynb\" target=\"_parent\"><img src=\"https://colab.research.google.com/assets/colab-badge.svg\" alt=\"Open In Colab\"/></a>"
      ]
    },
    {
      "cell_type": "code",
      "execution_count": null,
      "metadata": {
        "id": "g7MFXbQ4DMdp"
      },
      "outputs": [],
      "source": [
        "import pandas as pd\n",
        "n=int (input(\"Enter a integer value greater thn 0:  \"))\n",
        "even = []\n",
        "e1=0\n",
        "odd= []\n",
        "o1=1\n",
        "fabb=[]\n",
        "f1=0\n",
        "f2=1\n",
        "if n>=1:\n",
        "  fabb.append(f1)\n",
        "if n>=2:\n",
        "  fabb.append(f2)\n",
        "\n",
        "if (n>1):\n",
        "  even.append(e1)\n",
        "  odd.append(o1)\n",
        "for i in range(n-1):\n",
        "  e1+=2\n",
        "  o1+=2\n",
        "  even.append(e1)\n",
        "  odd.append(o1)\n",
        "if (n>2):\n",
        "  for i in range(n-2):\n",
        "    t=f1 + f2\n",
        "    f1=f2\n",
        "    f2=t\n",
        "    fabb.append(t)\n",
        "\n",
        "dict={\"Even\":even,\"Odd:odd,\"Fibbinoci:fabb}\n",
        "\n",
        "df=pd.DataFrame(dict)\n",
        "\n",
        "print(df)\n"
      ]
    }
  ]
}